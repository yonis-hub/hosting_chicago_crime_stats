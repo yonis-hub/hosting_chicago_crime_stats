{
 "cells": [
  {
   "cell_type": "code",
   "execution_count": null,
   "metadata": {},
   "outputs": [],
   "source": [
    "# importing dependencies\n",
    "import pandas as pd\n",
    "from sqlalchemy import create_engine\n",
    "# need this later when creating sql database\n",
    "import config"
   ]
  },
  {
   "cell_type": "code",
   "execution_count": null,
   "metadata": {},
   "outputs": [],
   "source": [
    "# read in the dataset and put into a dataframe\n",
    "chicago_crime_file = \"data/chicago_crime_stats.csv\"\n",
    "chicago_crime_file"
   ]
  },
  {
   "cell_type": "code",
   "execution_count": null,
   "metadata": {},
   "outputs": [],
   "source": [
    "chicago_crime_df = pd.read_csv(chicago_crime_file)\n",
    "# looking at the dataframe\n",
    "chicago_crime_df"
   ]
  },
  {
   "cell_type": "markdown",
   "metadata": {},
   "source": [
    "# Transform\n",
    "Here we take our dataframe and drop the columns we do not want included. "
   ]
  },
  {
   "cell_type": "code",
   "execution_count": null,
   "metadata": {},
   "outputs": [],
   "source": [
    "# columns we want to keep and include in the new \n",
    "chicago_crime_cols = [\"ID\", \"Date\", \"Primary Type\", \"Description\", \"Arrest\", \"Domestic\", \"District\", \"Year\", \"Latitude\",\n",
    "                     \"Longitude\"]\n",
    "\n",
    "# creating a new dataframe of the columns we want to include in our database\n",
    "chicago_crime_stats_df = chicago_crime_df[chicago_crime_cols].copy()"
   ]
  },
  {
   "cell_type": "code",
   "execution_count": null,
   "metadata": {},
   "outputs": [],
   "source": [
    "# looking at our new dataframe\n",
    "chicago_crime_stats_df = chicago_crime_stats_df.rename(columns=str.lower)\n",
    "\n",
    "chicago_crime_stats_df.head()"
   ]
  },
  {
   "cell_type": "markdown",
   "metadata": {},
   "source": [
    "# Limit the dataframe to violent crimes only"
   ]
  },
  {
   "cell_type": "code",
   "execution_count": null,
   "metadata": {},
   "outputs": [],
   "source": [
    "# take only those Primary Type's that are considered violent crimes"
   ]
  },
  {
   "cell_type": "code",
   "execution_count": null,
   "metadata": {},
   "outputs": [],
   "source": [
    "# checking the length of the dataframe\n",
    "len(chicago_crime_stats_df)"
   ]
  },
  {
   "cell_type": "code",
   "execution_count": null,
   "metadata": {},
   "outputs": [],
   "source": [
    "# limit dataframe to homicide, battery, assault, robbery, and sex offense\n",
    "violent_crimes_df = chicago_crime_stats_df.loc[(chicago_crime_stats_df[\"primary type\"]==\"HOMICIDE\") | \n",
    "                                               (chicago_crime_stats_df[\"primary type\"]==\"BATTERY\") |\n",
    "                                               (chicago_crime_stats_df[\"primary type\"]==\"ASSAULT\") |\n",
    "                                               (chicago_crime_stats_df[\"primary type\"]==\"ROBBERY\") |\n",
    "                                               (chicago_crime_stats_df[\"primary type\"]==\"SEX OFFENSE\")]\n",
    "\n",
    "# rename primary type as Primary_Type\n",
    "violent_crimes_df = violent_crimes_df.rename(columns={\"primary type\": \"primary_type\"})\n",
    "\n",
    "# looking at violent crimes only\n",
    "violent_crimes_df.head()"
   ]
  },
  {
   "cell_type": "code",
   "execution_count": null,
   "metadata": {},
   "outputs": [],
   "source": [
    "# format the date in the first column using datetime\n",
    "# first need to take the time out of the row\n",
    "violent_crimes_df[\"date\"] = violent_crimes_df[\"date\"].str.split(\" \", 1, expand=True)\n",
    "\n",
    "# now format the date using datetime\n",
    "violent_crimes_df[\"date\"] = pd.to_datetime(violent_crimes_df[\"date\"],format=\"%m/%d/%y\")\n",
    "\n",
    "violent_crimes_df.head()"
   ]
  },
  {
   "cell_type": "code",
   "execution_count": null,
   "metadata": {},
   "outputs": [],
   "source": [
    "# set date as the index for SQL database\n",
    "violent_crimes_df.set_index(\"id\", inplace=True)\n",
    "violent_crimes_df.head()"
   ]
  },
  {
   "cell_type": "code",
   "execution_count": null,
   "metadata": {},
   "outputs": [],
   "source": [
    "# checking the length of the new dataframe\n",
    "len(violent_crimes_df)"
   ]
  },
  {
   "cell_type": "code",
   "execution_count": null,
   "metadata": {},
   "outputs": [],
   "source": [
    "violent_crimes_df= violent_crimes_df.head(10000)\n",
    "len(violent_crimes_df)"
   ]
  },
  {
   "cell_type": "code",
   "execution_count": null,
   "metadata": {},
   "outputs": [],
   "source": [
    "#list unique values in the df ['primary_type']\n",
    "violent_crimes_df.primary_type.unique()"
   ]
  },
  {
   "cell_type": "code",
   "execution_count": null,
   "metadata": {},
   "outputs": [],
   "source": [
    "# checking the data types\n",
    "print(violent_crimes_df.dtypes)"
   ]
  },
  {
   "cell_type": "markdown",
   "metadata": {},
   "source": [
    "# Load the data into SQL Database"
   ]
  },
  {
   "cell_type": "code",
   "execution_count": null,
   "metadata": {},
   "outputs": [],
   "source": [
    "# Create a SQL Database connection\n",
    "connection_string = f\"postgres:{config.password}@localhost:5432/chicago_violent_crimes_db\"\n",
    "engine = create_engine(f'postgresql://{connection_string}')"
   ]
  },
  {
   "cell_type": "code",
   "execution_count": null,
   "metadata": {},
   "outputs": [],
   "source": [
    "# checking tables\n",
    "engine.table_names()"
   ]
  },
  {
   "cell_type": "code",
   "execution_count": null,
   "metadata": {},
   "outputs": [],
   "source": [
    "# load dataframes into database\n",
    "try:\n",
    "    violent_crimes_df.to_sql(name=\"violent_crimes\", con=engine, if_exists=\"append\", index=True)\n",
    "    print(\"Data loaded successfully\")\n",
    "    \n",
    "except:\n",
    "    print(\"Data has already been loaded to db\")"
   ]
  }
 ],
 "metadata": {
  "kernelspec": {
   "display_name": "Python 3",
   "language": "python",
   "name": "python3"
  },
  "language_info": {
   "codemirror_mode": {
    "name": "ipython",
    "version": 3
   },
   "file_extension": ".py",
   "mimetype": "text/x-python",
   "name": "python",
   "nbconvert_exporter": "python",
   "pygments_lexer": "ipython3",
   "version": "3.6.10"
  }
 },
 "nbformat": 4,
 "nbformat_minor": 4
}
